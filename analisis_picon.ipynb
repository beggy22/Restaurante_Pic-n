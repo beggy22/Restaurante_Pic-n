{
 "cells": [
  {
   "cell_type": "code",
   "execution_count": 1,
   "id": "c8667853",
   "metadata": {},
   "outputs": [
    {
     "name": "stdout",
     "output_type": "stream",
     "text": [
      "Dimensiones después de saltar líneas problemáticas: (4976, 19)\n",
      "                     createdOn changeOperation       market     city  \\\n",
      "0  2022-10-27 23:07:19.0000000          Create  Houston, TX  Houston   \n",
      "1  2022-10-27 23:07:26.0000000          Delete  Houston, TX  Houston   \n",
      "2  2022-10-27 23:07:26.0000000          Delete  Houston, TX  Houston   \n",
      "3  2022-10-27 23:07:33.0000000          Delete  Houston, TX  Houston   \n",
      "4  2022-10-27 23:07:33.0000000          Delete  Houston, TX  Houston   \n",
      "\n",
      "                  menuItemName  \\\n",
      "0   1% Low Fat Milk (110 Cals)   \n",
      "1  10-Piece Boneless Wing Meal   \n",
      "2   8-Piece Boneless Wing Meal   \n",
      "3                   LUNCH DUET   \n",
      "4                 FILET MIGNON   \n",
      "\n",
      "                                 menuItemDescription menuItemCurrentPrice  \\\n",
      "0  As delicious as our sandwiches are, they are e...                $2.19   \n",
      "1                     Served with fries and a drink.               $14.19   \n",
      "2                     Served with fries and a drink.               $12.99   \n",
      "3  Select two of these Benihana favorites:Beef* J...               $24.10   \n",
      "4  Tenderloin* and mushrooms lightly seasoned and...               $24.40   \n",
      "\n",
      "  menuItemPreviousPrice                                   menuItemImageUrl  \\\n",
      "0                   NaN  https://img.cdn4dd.com/cdn-cgi/image/fit=conta...   \n",
      "1                   NaN  https://img.cdn4dd.com/cdn-cgi/image/fit=conta...   \n",
      "2                   NaN  https://img.cdn4dd.com/cdn-cgi/image/fit=conta...   \n",
      "3                   NaN  https://img.cdn4dd.com/cdn-cgi/image/fit=conta...   \n",
      "4                   NaN  https://img.cdn4dd.com/cdn-cgi/image/fit=conta...   \n",
      "\n",
      "  menuItemCategory menuItemAverageRating menuItemRatingCount restaurantName  \\\n",
      "0           Drinks      4.57420492172241                 566         Subway   \n",
      "1   Boneless Wings      4.42056798934937                6194  American Deli   \n",
      "2   Boneless Wings      4.42056798934937                6194  American Deli   \n",
      "3    LUNCH ENTRÉES      4.35029411315918                2378       Benihana   \n",
      "4    LUNCH ENTRÉES      4.35029411315918                2378       Benihana   \n",
      "\n",
      "                               restaurantDescription  \\\n",
      "0                Sandwiches, Salads, Dessert, Snacks   \n",
      "1  Deli, Takeout, Gyro, Chicken, Burgers, Fast Fo...   \n",
      "2  Deli, Takeout, Gyro, Chicken, Burgers, Fast Fo...   \n",
      "3  Chicken, Steak, Hibachi, Asian Food, Family Me...   \n",
      "4  Chicken, Steak, Hibachi, Asian Food, Family Me...   \n",
      "\n",
      "                           restaurantAddress  \\\n",
      "0      2003 Pease St, Houston, TX 77003, USA   \n",
      "1      6120 Scott St, Houston, TX 77021, USA   \n",
      "2      6120 Scott St, Houston, TX 77021, USA   \n",
      "3  1318 Louisiana St, Houston, TX, 77002 USA   \n",
      "4  1318 Louisiana St, Houston, TX, 77002 USA   \n",
      "\n",
      "                                  restaurantImageUrl restaurantPriceRange  \\\n",
      "0  https://img.cdn4dd.com/cdn-cgi/image/fit=conta...                    $   \n",
      "1  https://img.cdn4dd.com/cdn-cgi/image/fit=conta...                    $   \n",
      "2  https://img.cdn4dd.com/cdn-cgi/image/fit=conta...                    $   \n",
      "3  https://img.cdn4dd.com/cdn-cgi/image/fit=conta...                   $$   \n",
      "4  https://img.cdn4dd.com/cdn-cgi/image/fit=conta...                   $$   \n",
      "\n",
      "  restaurantLatitude restaurantLongitude  \n",
      "0         29.7466861          -95.359915  \n",
      "1         29.7000121         -95.3600172  \n",
      "2         29.7000121         -95.3600172  \n",
      "3         29.7560868         -95.3697436  \n",
      "4         29.7560868         -95.3697436  \n"
     ]
    }
   ],
   "source": [
    "import pandas as pd\n",
    "\n",
    "# Leer CSV ignorando líneas problemáticas\n",
    "df = pd.read_csv(\n",
    "    r\"C:\\Users\\beggy\\OneDrive\\Desktop\\Nueva carpeta\\picon_granada.csv\",\n",
    "    on_bad_lines='skip',   # salta las líneas que dan error\n",
    "    dtype=str               # leemos todo como texto primero\n",
    ")\n",
    "\n",
    "print(\"Dimensiones después de saltar líneas problemáticas:\", df.shape)\n",
    "print(df.head())\n"
   ]
  },
  {
   "cell_type": "code",
   "execution_count": 2,
   "id": "ea9ddf03",
   "metadata": {},
   "outputs": [
    {
     "name": "stdout",
     "output_type": "stream",
     "text": [
      "3884    New American Pizzeria\n",
      "Name: menuItemAverageRating, dtype: object\n"
     ]
    }
   ],
   "source": [
    "# Ver los valores que no se pueden convertir a float\n",
    "mask = pd.to_numeric(df['menuItemAverageRating'], errors='coerce').isna()\n",
    "valores_no_numericos = df.loc[mask, 'menuItemAverageRating']\n",
    "print(valores_no_numericos)\n"
   ]
  },
  {
   "cell_type": "code",
   "execution_count": 3,
   "id": "c6efd9e2",
   "metadata": {},
   "outputs": [],
   "source": [
    "# Limpiar y convertir precios a float\n",
    "df['menuItemCurrentPrice'] = df['menuItemCurrentPrice'].replace('[\\$,]', '', regex=True).astype(float)\n",
    "df['menuItemPreviousPrice'] = df['menuItemPreviousPrice'].replace('[\\$,]', '', regex=True).astype(float)\n"
   ]
  },
  {
   "cell_type": "code",
   "execution_count": 4,
   "id": "cb77f348",
   "metadata": {},
   "outputs": [
    {
     "data": {
      "text/html": [
       "<div>\n",
       "<style scoped>\n",
       "    .dataframe tbody tr th:only-of-type {\n",
       "        vertical-align: middle;\n",
       "    }\n",
       "\n",
       "    .dataframe tbody tr th {\n",
       "        vertical-align: top;\n",
       "    }\n",
       "\n",
       "    .dataframe thead th {\n",
       "        text-align: right;\n",
       "    }\n",
       "</style>\n",
       "<table border=\"1\" class=\"dataframe\">\n",
       "  <thead>\n",
       "    <tr style=\"text-align: right;\">\n",
       "      <th></th>\n",
       "      <th>createdOn</th>\n",
       "      <th>changeOperation</th>\n",
       "      <th>market</th>\n",
       "      <th>city</th>\n",
       "      <th>menuItemName</th>\n",
       "      <th>menuItemDescription</th>\n",
       "      <th>menuItemCurrentPrice</th>\n",
       "      <th>menuItemPreviousPrice</th>\n",
       "      <th>menuItemImageUrl</th>\n",
       "      <th>menuItemCategory</th>\n",
       "      <th>menuItemAverageRating</th>\n",
       "      <th>menuItemRatingCount</th>\n",
       "      <th>restaurantName</th>\n",
       "      <th>restaurantDescription</th>\n",
       "      <th>restaurantAddress</th>\n",
       "      <th>restaurantImageUrl</th>\n",
       "      <th>restaurantPriceRange</th>\n",
       "      <th>restaurantLatitude</th>\n",
       "      <th>restaurantLongitude</th>\n",
       "    </tr>\n",
       "  </thead>\n",
       "  <tbody>\n",
       "    <tr>\n",
       "      <th>3884</th>\n",
       "      <td>2022-11-07 21:15:11.0000000</td>\n",
       "      <td>Create</td>\n",
       "      <td>Houston, TX</td>\n",
       "      <td>Houston</td>\n",
       "      <td>Cheesus Christ</td>\n",
       "      <td>mozzarella, taleggio, parmigiano reggiano, bla...</td>\n",
       "      <td>22.0</td>\n",
       "      <td>NaN</td>\n",
       "      <td>https://img.cdn4dd.com/cdn-cgi/image/fit=conta...</td>\n",
       "      <td>Pizzas 12\\\",4.73529386520386,34,Roberta’s\"</td>\n",
       "      <td>New American Pizzeria</td>\n",
       "      <td>401 Franklin St, Houston, TX 77201, USA</td>\n",
       "      <td>https://img.cdn4dd.com/cdn-cgi/image/fit=conta...</td>\n",
       "      <td>$$</td>\n",
       "      <td>29.7662149</td>\n",
       "      <td>-95.3648839</td>\n",
       "      <td>NaN</td>\n",
       "      <td>NaN</td>\n",
       "      <td>NaN</td>\n",
       "    </tr>\n",
       "  </tbody>\n",
       "</table>\n",
       "</div>"
      ],
      "text/plain": [
       "                        createdOn changeOperation       market     city  \\\n",
       "3884  2022-11-07 21:15:11.0000000          Create  Houston, TX  Houston   \n",
       "\n",
       "        menuItemName                                menuItemDescription  \\\n",
       "3884  Cheesus Christ  mozzarella, taleggio, parmigiano reggiano, bla...   \n",
       "\n",
       "      menuItemCurrentPrice  menuItemPreviousPrice  \\\n",
       "3884                  22.0                    NaN   \n",
       "\n",
       "                                       menuItemImageUrl  \\\n",
       "3884  https://img.cdn4dd.com/cdn-cgi/image/fit=conta...   \n",
       "\n",
       "                                menuItemCategory  menuItemAverageRating  \\\n",
       "3884  Pizzas 12\\\",4.73529386520386,34,Roberta’s\"  New American Pizzeria   \n",
       "\n",
       "                          menuItemRatingCount  \\\n",
       "3884  401 Franklin St, Houston, TX 77201, USA   \n",
       "\n",
       "                                         restaurantName restaurantDescription  \\\n",
       "3884  https://img.cdn4dd.com/cdn-cgi/image/fit=conta...                    $$   \n",
       "\n",
       "     restaurantAddress restaurantImageUrl restaurantPriceRange  \\\n",
       "3884        29.7662149        -95.3648839                  NaN   \n",
       "\n",
       "     restaurantLatitude restaurantLongitude  \n",
       "3884                NaN                 NaN  "
      ]
     },
     "execution_count": 4,
     "metadata": {},
     "output_type": "execute_result"
    }
   ],
   "source": [
    "df[df['menuItemAverageRating'].str.contains('[A-Za-z]', na=False)]\n"
   ]
  },
  {
   "cell_type": "code",
   "execution_count": 5,
   "id": "501117d4",
   "metadata": {},
   "outputs": [
    {
     "name": "stderr",
     "output_type": "stream",
     "text": [
      "C:\\Users\\beggy\\AppData\\Local\\Temp\\ipykernel_23296\\994262352.py:7: FutureWarning: A value is trying to be set on a copy of a DataFrame or Series through chained assignment using an inplace method.\n",
      "The behavior will change in pandas 3.0. This inplace method will never work because the intermediate object on which we are setting values always behaves as a copy.\n",
      "\n",
      "For example, when doing 'df[col].method(value, inplace=True)', try using 'df.method({col: value}, inplace=True)' or df[col] = df[col].method(value) instead, to perform the operation inplace on the original object.\n",
      "\n",
      "\n",
      "  df['menuItemPreviousPrice'].fillna(df['menuItemCurrentPrice'], inplace=True)\n"
     ]
    }
   ],
   "source": [
    "# Convertir precios a float eliminando símbolos $\n",
    "df['menuItemCurrentPrice'] = df['menuItemCurrentPrice'].replace('[\\$,]', '', regex=True).astype(float)\n",
    "df['menuItemPreviousPrice'] = df['menuItemPreviousPrice'].replace('[\\$,]', '', regex=True)\n",
    "\n",
    "# Forzar PreviousPrice a float y rellenar NaN con CurrentPrice\n",
    "df['menuItemPreviousPrice'] = pd.to_numeric(df['menuItemPreviousPrice'], errors='coerce')\n",
    "df['menuItemPreviousPrice'].fillna(df['menuItemCurrentPrice'], inplace=True)\n",
    "\n",
    "# Limpiar ratings y conteos\n",
    "df['menuItemAverageRating'] = pd.to_numeric(df['menuItemAverageRating'], errors='coerce')\n",
    "df['menuItemRatingCount'] = pd.to_numeric(df['menuItemRatingCount'], errors='coerce')\n",
    "\n",
    "# Eliminar filas donde AverageRating sea NaN (eran filas corruptas)\n",
    "df = df.dropna(subset=['menuItemAverageRating'])\n"
   ]
  },
  {
   "cell_type": "code",
   "execution_count": 6,
   "id": "42bfd61e",
   "metadata": {},
   "outputs": [
    {
     "ename": "NameError",
     "evalue": "name 'numeric_cols' is not defined",
     "output_type": "error",
     "traceback": [
      "\u001b[1;31m---------------------------------------------------------------------------\u001b[0m",
      "\u001b[1;31mNameError\u001b[0m                                 Traceback (most recent call last)",
      "Cell \u001b[1;32mIn[6], line 1\u001b[0m\n\u001b[1;32m----> 1\u001b[0m df[\u001b[43mnumeric_cols\u001b[49m]\u001b[38;5;241m.\u001b[39mdescribe()\n",
      "\u001b[1;31mNameError\u001b[0m: name 'numeric_cols' is not defined"
     ]
    }
   ],
   "source": [
    "df[numeric_cols].describe()\n"
   ]
  },
  {
   "cell_type": "code",
   "execution_count": null,
   "id": "faadb6ac",
   "metadata": {},
   "outputs": [
    {
     "name": "stdout",
     "output_type": "stream",
     "text": [
      "Columna: menuItemCurrentPrice, Outliers: 210\n",
      "Columna: menuItemPreviousPrice, Outliers: 228\n",
      "Columna: menuItemAverageRating, Outliers: 244\n",
      "Columna: menuItemRatingCount, Outliers: 209\n"
     ]
    }
   ],
   "source": [
    "# Columnas numéricas a analizar\n",
    "numeric_cols = ['menuItemCurrentPrice', 'menuItemPreviousPrice', 'menuItemAverageRating', 'menuItemRatingCount']\n",
    "\n",
    "# Crear un diccionario para guardar los outliers\n",
    "outliers = {}\n",
    "\n",
    "for col in numeric_cols:\n",
    "    Q1 = df[col].quantile(0.25)\n",
    "    Q3 = df[col].quantile(0.75)\n",
    "    IQR = Q3 - Q1\n",
    "    lower_bound = Q1 - 1.5 * IQR\n",
    "    upper_bound = Q3 + 1.5 * IQR\n",
    "    \n",
    "    # Filtrar outliers\n",
    "    outliers[col] = df[(df[col] < lower_bound) | (df[col] > upper_bound)][col]\n",
    "    \n",
    "    print(f\"Columna: {col}, Outliers: {len(outliers[col])}\")\n"
   ]
  },
  {
   "cell_type": "code",
   "execution_count": null,
   "id": "e5c37177",
   "metadata": {},
   "outputs": [],
   "source": [
    "for col in numeric_cols:\n",
    "    Q1 = df[col].quantile(0.25)\n",
    "    Q3 = df[col].quantile(0.75)\n",
    "    IQR = Q3 - Q1\n",
    "    lower_bound = Q1 - 1.5 * IQR\n",
    "    upper_bound = Q3 + 1.5 * IQR\n",
    "    df[col] = df[col].clip(lower=lower_bound, upper=upper_bound)\n"
   ]
  },
  {
   "cell_type": "code",
   "execution_count": null,
   "id": "e131e78a",
   "metadata": {},
   "outputs": [
    {
     "name": "stdout",
     "output_type": "stream",
     "text": [
      "menuItemCurrentPrice [ 2.19 14.19 12.99 24.1  24.4  22.   19.   18.4  21.2  21.3 ]\n",
      "menuItemPreviousPrice [ 2.19 14.19 12.99 24.1  24.4  22.   19.   18.4  21.2  21.3 ]\n",
      "menuItemAverageRating [4.57420492 4.42056799 4.35029411 4.66587877 4.68148088 4.65513897\n",
      " 4.3526969  4.83101177 4.31238794 4.72851801]\n",
      "menuItemRatingCount [ 566. 6194. 2378. 8857.  405. 1041.  482. 1651.  557.  803.]\n",
      "restaurantLatitude ['29.7466861' '29.7000121' '29.7560868' '29.7451531' '29.7701293'\n",
      " '29.7518483' '29.7426555' '29.7819194' '29.7382287' '29.7709432']\n",
      "restaurantLongitude ['-95.359915' '-95.3600172' '-95.3697436' '-95.3776337' '-95.3817043'\n",
      " '-95.3769374' '-95.4034414' '-95.3902331' '-95.408481' '-95.3720701']\n"
     ]
    }
   ],
   "source": [
    "for col in numeric_cols:\n",
    "    print(col, df[col].unique()[:10])\n"
   ]
  },
  {
   "cell_type": "code",
   "execution_count": null,
   "id": "5801e571",
   "metadata": {},
   "outputs": [],
   "source": [
    "for col in numeric_cols:\n",
    "    df[col] = pd.to_numeric(df[col], errors='coerce')\n"
   ]
  },
  {
   "cell_type": "code",
   "execution_count": null,
   "id": "bda807f0",
   "metadata": {},
   "outputs": [
    {
     "name": "stderr",
     "output_type": "stream",
     "text": [
      "C:\\Users\\beggy\\AppData\\Local\\Temp\\ipykernel_15864\\700135167.py:2: FutureWarning: A value is trying to be set on a copy of a DataFrame or Series through chained assignment using an inplace method.\n",
      "The behavior will change in pandas 3.0. This inplace method will never work because the intermediate object on which we are setting values always behaves as a copy.\n",
      "\n",
      "For example, when doing 'df[col].method(value, inplace=True)', try using 'df.method({col: value}, inplace=True)' or df[col] = df[col].method(value) instead, to perform the operation inplace on the original object.\n",
      "\n",
      "\n",
      "  df[col].fillna(df[col].mean(), inplace=True)\n"
     ]
    }
   ],
   "source": [
    "for col in numeric_cols:\n",
    "    df[col].fillna(df[col].mean(), inplace=True)\n"
   ]
  },
  {
   "cell_type": "code",
   "execution_count": null,
   "id": "44b35fad",
   "metadata": {},
   "outputs": [
    {
     "name": "stdout",
     "output_type": "stream",
     "text": [
      "createdOn                0.0\n",
      "changeOperation          0.0\n",
      "market                   0.0\n",
      "city                     0.0\n",
      "menuItemName             0.0\n",
      "menuItemDescription      0.0\n",
      "menuItemCurrentPrice     0.0\n",
      "menuItemPreviousPrice    0.0\n",
      "menuItemImageUrl         0.0\n",
      "menuItemCategory         0.0\n",
      "menuItemAverageRating    0.0\n",
      "menuItemRatingCount      0.0\n",
      "restaurantName           0.0\n",
      "restaurantDescription    0.0\n",
      "restaurantAddress        0.0\n",
      "restaurantImageUrl       0.0\n",
      "restaurantPriceRange     0.0\n",
      "restaurantLatitude       0.0\n",
      "restaurantLongitude      0.0\n",
      "dtype: float64\n"
     ]
    },
    {
     "name": "stderr",
     "output_type": "stream",
     "text": [
      "C:\\Users\\beggy\\AppData\\Local\\Temp\\ipykernel_15864\\3821113400.py:2: FutureWarning: A value is trying to be set on a copy of a DataFrame or Series through chained assignment using an inplace method.\n",
      "The behavior will change in pandas 3.0. This inplace method will never work because the intermediate object on which we are setting values always behaves as a copy.\n",
      "\n",
      "For example, when doing 'df[col].method(value, inplace=True)', try using 'df.method({col: value}, inplace=True)' or df[col] = df[col].method(value) instead, to perform the operation inplace on the original object.\n",
      "\n",
      "\n",
      "  df['menuItemDescription'].fillna(\"Sin descripción\", inplace=True)\n",
      "C:\\Users\\beggy\\AppData\\Local\\Temp\\ipykernel_15864\\3821113400.py:3: FutureWarning: A value is trying to be set on a copy of a DataFrame or Series through chained assignment using an inplace method.\n",
      "The behavior will change in pandas 3.0. This inplace method will never work because the intermediate object on which we are setting values always behaves as a copy.\n",
      "\n",
      "For example, when doing 'df[col].method(value, inplace=True)', try using 'df.method({col: value}, inplace=True)' or df[col] = df[col].method(value) instead, to perform the operation inplace on the original object.\n",
      "\n",
      "\n",
      "  df['menuItemImageUrl'].fillna(\"https://via.placeholder.com/150\", inplace=True)\n",
      "C:\\Users\\beggy\\AppData\\Local\\Temp\\ipykernel_15864\\3821113400.py:4: FutureWarning: A value is trying to be set on a copy of a DataFrame or Series through chained assignment using an inplace method.\n",
      "The behavior will change in pandas 3.0. This inplace method will never work because the intermediate object on which we are setting values always behaves as a copy.\n",
      "\n",
      "For example, when doing 'df[col].method(value, inplace=True)', try using 'df.method({col: value}, inplace=True)' or df[col] = df[col].method(value) instead, to perform the operation inplace on the original object.\n",
      "\n",
      "\n",
      "  df['restaurantImageUrl'].fillna(\"https://via.placeholder.com/150\", inplace=True)\n",
      "C:\\Users\\beggy\\AppData\\Local\\Temp\\ipykernel_15864\\3821113400.py:5: FutureWarning: A value is trying to be set on a copy of a DataFrame or Series through chained assignment using an inplace method.\n",
      "The behavior will change in pandas 3.0. This inplace method will never work because the intermediate object on which we are setting values always behaves as a copy.\n",
      "\n",
      "For example, when doing 'df[col].method(value, inplace=True)', try using 'df.method({col: value}, inplace=True)' or df[col] = df[col].method(value) instead, to perform the operation inplace on the original object.\n",
      "\n",
      "\n",
      "  df['restaurantPriceRange'].fillna(\"Desconocido\", inplace=True)\n",
      "C:\\Users\\beggy\\AppData\\Local\\Temp\\ipykernel_15864\\3821113400.py:13: FutureWarning: A value is trying to be set on a copy of a DataFrame or Series through chained assignment using an inplace method.\n",
      "The behavior will change in pandas 3.0. This inplace method will never work because the intermediate object on which we are setting values always behaves as a copy.\n",
      "\n",
      "For example, when doing 'df[col].method(value, inplace=True)', try using 'df.method({col: value}, inplace=True)' or df[col] = df[col].method(value) instead, to perform the operation inplace on the original object.\n",
      "\n",
      "\n",
      "  df[col].fillna(df[col].mean(), inplace=True)\n"
     ]
    }
   ],
   "source": [
    "# Reemplazar valores perdidos\n",
    "df['menuItemDescription'].fillna(\"Sin descripción\", inplace=True)\n",
    "df['menuItemImageUrl'].fillna(\"https://via.placeholder.com/150\", inplace=True)\n",
    "df['restaurantImageUrl'].fillna(\"https://via.placeholder.com/150\", inplace=True)\n",
    "df['restaurantPriceRange'].fillna(\"Desconocido\", inplace=True)\n",
    "\n",
    "# Para columnas numéricas, si hubiera algún NaN residual\n",
    "numeric_cols = ['menuItemCurrentPrice', 'menuItemPreviousPrice', \n",
    "                'menuItemAverageRating', 'menuItemRatingCount',\n",
    "                'restaurantLatitude', 'restaurantLongitude']\n",
    "\n",
    "for col in numeric_cols:\n",
    "    df[col].fillna(df[col].mean(), inplace=True)\n",
    "\n",
    "# Confirmar que no hay valores perdidos\n",
    "print(df.isnull().mean() * 100)\n"
   ]
  },
  {
   "cell_type": "code",
   "execution_count": null,
   "id": "a657de0b",
   "metadata": {},
   "outputs": [
    {
     "name": "stdout",
     "output_type": "stream",
     "text": [
      "createdOn                0.0\n",
      "changeOperation          0.0\n",
      "market                   0.0\n",
      "city                     0.0\n",
      "menuItemName             0.0\n",
      "menuItemDescription      0.0\n",
      "menuItemCurrentPrice     0.0\n",
      "menuItemPreviousPrice    0.0\n",
      "menuItemImageUrl         0.0\n",
      "menuItemCategory         0.0\n",
      "menuItemAverageRating    0.0\n",
      "menuItemRatingCount      0.0\n",
      "restaurantName           0.0\n",
      "restaurantDescription    0.0\n",
      "restaurantAddress        0.0\n",
      "restaurantImageUrl       0.0\n",
      "restaurantPriceRange     0.0\n",
      "restaurantLatitude       0.0\n",
      "restaurantLongitude      0.0\n",
      "dtype: float64\n"
     ]
    }
   ],
   "source": [
    "# Porcentaje de valores perdidos por columna\n",
    "missing_percent = df.isna().mean() * 100\n",
    "print(missing_percent.sort_values(ascending=False))\n"
   ]
  },
  {
   "cell_type": "code",
   "execution_count": null,
   "id": "3e2792de",
   "metadata": {},
   "outputs": [
    {
     "data": {
      "text/plain": [
       "(4975, 19)"
      ]
     },
     "execution_count": 71,
     "metadata": {},
     "output_type": "execute_result"
    }
   ],
   "source": [
    "df.shape"
   ]
  }
 ],
 "metadata": {
  "kernelspec": {
   "display_name": "Python (cybersec)",
   "language": "python",
   "name": "cybersec"
  },
  "language_info": {
   "codemirror_mode": {
    "name": "ipython",
    "version": 3
   },
   "file_extension": ".py",
   "mimetype": "text/x-python",
   "name": "python",
   "nbconvert_exporter": "python",
   "pygments_lexer": "ipython3",
   "version": "3.10.16"
  }
 },
 "nbformat": 4,
 "nbformat_minor": 5
}
